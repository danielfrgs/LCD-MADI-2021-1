{
  "nbformat": 4,
  "nbformat_minor": 0,
  "metadata": {
    "colab": {
      "name": "AlgdeOrd.ipynb",
      "provenance": [],
      "authorship_tag": "ABX9TyNAb7RCc0R7Pe3GFkZUQsos",
      "include_colab_link": true
    },
    "kernelspec": {
      "name": "python3",
      "display_name": "Python 3"
    },
    "language_info": {
      "name": "python"
    }
  },
  "cells": [
    {
      "cell_type": "markdown",
      "metadata": {
        "id": "view-in-github",
        "colab_type": "text"
      },
      "source": [
        "<a href=\"https://colab.research.google.com/github/danielfrgs/LCD-MADI-2022-1/blob/main/AlgdeOrd.ipynb\" target=\"_parent\"><img src=\"https://colab.research.google.com/assets/colab-badge.svg\" alt=\"Open In Colab\"/></a>"
      ]
    },
    {
      "cell_type": "markdown",
      "metadata": {
        "id": "q9Navtvf7eEt"
      },
      "source": [
        "# Algoritmos de Ordenamiento\n",
        "\n",
        "Fragoso Alvarado Daniel"
      ]
    },
    {
      "cell_type": "markdown",
      "metadata": {
        "id": "fOO-Mpo2ZtC9"
      },
      "source": [
        "1. Implementa el algoritmo de ordenamiento quicksort.\n",
        "\n",
        "### Algoritmo\n",
        "\n",
        "El algoritmo de acuerdo a Wikipedia es el siguiente:\n",
        "\n",
        "- Si el rango tiene menos de dos elementos, regrese inmediatamente ya que no hay nada que hacer. Posiblemente, para otras longitudes muy cortas, se aplica un método de clasificación para fines especiales y se omiten el resto de estos pasos.\n",
        "- De lo contrario, elija un valor, llamado pivote, que ocurra en el rango (la forma precisa de elegir depende de la rutina de partición y puede implicar aleatoriedad).\n",
        "- Particione el rango: reordene sus elementos, mientras determina un punto de división, de modo que todos los elementos con valores menores que el pivote vengan antes de la división, mientras que todos los elementos con valores mayores que el pivote vengan después de ella; los elementos que son iguales al pivote pueden ir en cualquier dirección. Dado que al menos una instancia del pivote está presente, la mayoría de las rutinas de partición aseguran que el valor que termina en el punto de división sea igual al pivote, y ahora esté en su posición final (pero la terminación de quicksort no depende de esto, siempre que se produzcan subrangos estrictamente más pequeños que el original).\n",
        "- Aplique de forma recursiva la clasificación rápida al subrango hasta el punto de división y al subrango después de él, posiblemente excluyendo de ambos rangos el elemento igual al pivote en el punto de división. (Si la partición produce un subrango posiblemente mayor cerca del límite donde se sabe que todos los elementos son iguales al pivote, estos también se pueden excluir).\n",
        "\n",
        "Entonces crearemos una función que reciba una lista y la retorne ordenada; como ya vimos el `pivote` se elige de forma aleatoria en nuestro caso vamos a elegir el úlltimo valor."
      ]
    },
    {
      "cell_type": "code",
      "metadata": {
        "id": "eQcy6Pk8Zvaj"
      },
      "source": [
        "def quicksort(l):\n",
        "  # Vamos a crear varias listas para dividir al segmento original a partir del pivote.\n",
        "  menores = []\n",
        "  mayores = []\n",
        "  iguales = []\n",
        "\n",
        "  # Verificamos que nno sea una lista de un solo elemento y si no lo es aplicamos \n",
        "  # el algoritmo\n",
        "  if len(l) > 1:\n",
        "      # Elegimos el pivote como el último elemento.\n",
        "      pivote = l[0]\n",
        "      for x in l:\n",
        "        if x < pivote:\n",
        "          menores.append(x)\n",
        "        elif x == pivote:\n",
        "          iguales.append(x)\n",
        "        elif x > pivote:\n",
        "          mayores.append(x)\n",
        "      # Apliquemos de forma recursiva\n",
        "      return quicksort(menores) + iguales + quicksort(mayores)\n",
        "  else:\n",
        "    return l"
      ],
      "execution_count": 5,
      "outputs": []
    },
    {
      "cell_type": "code",
      "metadata": {
        "colab": {
          "base_uri": "https://localhost:8080/"
        },
        "id": "bncp67oWH1_9",
        "outputId": "1dfa2dd2-8e94-4e17-f6d3-f9b1d19d0e3e"
      },
      "source": [
        "prueba = [5, 7, 1, 5, 9, 10, 4, 2, 6, 8, 16, 32, 73, 22, 21, 75, 42]\n",
        "\n",
        "quicksort(prueba)"
      ],
      "execution_count": 6,
      "outputs": [
        {
          "output_type": "execute_result",
          "data": {
            "text/plain": [
              "[1, 2, 4, 5, 5, 6, 7, 8, 9, 10, 16, 21, 22, 32, 42, 73, 75]"
            ]
          },
          "metadata": {},
          "execution_count": 6
        }
      ]
    },
    {
      "cell_type": "markdown",
      "metadata": {
        "id": "8InDAgWwIo_l"
      },
      "source": [
        "2. Utilizando radix sort, implementa un algoritmo que permita ordenar alfabéticamente una lista de strings. Puedes suponer que las strings no tienen espacios y contienen únicamente caracteres que son letras minúsculas. Verifica tu algoritmo con las listas: ['aaaaa', 'zapatos', 'bien', 'zapatillas', 'datos', 'dddatos', 'das', 'ciencia', 'aaa', 'alas', 'problema', 'comando', 'oopera'], ['ddddescarga', 'usando', 'nuevo', 'nuevos', 'version', 'verifica', 'ooo', 'eeee', 'goool', 'golazooo', 'goolazo', 'compartir']"
      ]
    },
    {
      "cell_type": "code",
      "metadata": {
        "id": "Yl_PH7vDNkUY"
      },
      "source": [
        "# De la clae tenemos\n",
        "\n",
        "def _radix_aux(L, pos, col):\n",
        "    output   = [0] * len(L)\n",
        "    # Ponemos el contador en 27, una letra más que el alfabeto americano.\n",
        "    count = [0] * 27\n",
        "    # Determinar el mínimo, vamos a establecer el valor de 'a' en python con ord\n",
        "    min = ord('a') - 1\n",
        "    # Generamos el Count\n",
        "    for m in L:\n",
        "      # Aqui usamos el parámetro col, el cual nos permite comparar todas las etras de cada\n",
        "      # palabra, no solo la primera pues el orden alfabetico si un apalabra inicia con la misma letra\n",
        "      # se recurre a las siguientes para determinar el valor \n",
        "      letra = ord(m[col]) - min if col < len(m) else 0\n",
        "      count[letra] += 1\n",
        "\n",
        "    # Recuperamos las posiciones que nos indica el counting sort\n",
        "    for i in range(len(count)-1): \n",
        "        count[i + 1] += count[i]\n",
        "\n",
        "    for m in reversed(L):\n",
        "      letra = ord(m[col]) - min if col < len(m) else 0\n",
        "      output[count[letra] - 1] = m\n",
        "      count[letra] -= 1\n",
        "\n",
        "    return output\n",
        "\n",
        "def radix_sort(L):\n",
        "\n",
        "    max_col = len(max(L)) # edit to max length\n",
        "\n",
        "    for col in range(max_col-1, -1, -1): # max_len-1, max_len-2, ...0\n",
        "      L = _radix_aux(L, len(L), col)\n",
        "\n",
        "    return L"
      ],
      "execution_count": 36,
      "outputs": []
    },
    {
      "cell_type": "code",
      "metadata": {
        "colab": {
          "base_uri": "https://localhost:8080/"
        },
        "id": "CDnlIIC_pb_-",
        "outputId": "cf0838d5-2406-40ff-a9b0-899932853553"
      },
      "source": [
        "L = ['aaaaa', 'zapatos', 'bien', 'zapatillas', 'datos', 'dddatos', 'das', 'ciencia', 'aaa', 'alas', 'problema', 'comando', 'oopera']\n",
        "M = ['ddddescarga', 'usando', 'nuevo', 'nuevos', 'version', 'verifica', 'ooo', 'eeee', 'goool', 'golazooo', 'goolazo', 'compartir']\n",
        "\n",
        "radix_sort(L)"
      ],
      "execution_count": 37,
      "outputs": [
        {
          "output_type": "execute_result",
          "data": {
            "text/plain": [
              "['aaa',\n",
              " 'aaaaa',\n",
              " 'alas',\n",
              " 'bien',\n",
              " 'ciencia',\n",
              " 'comando',\n",
              " 'das',\n",
              " 'datos',\n",
              " 'dddatos',\n",
              " 'oopera',\n",
              " 'problema',\n",
              " 'zapatillas',\n",
              " 'zapatos']"
            ]
          },
          "metadata": {},
          "execution_count": 37
        }
      ]
    },
    {
      "cell_type": "code",
      "metadata": {
        "colab": {
          "base_uri": "https://localhost:8080/"
        },
        "id": "gKyE-AYIr6_n",
        "outputId": "209d23c6-33fa-480b-ec26-0ffc7c326be4"
      },
      "source": [
        "radix_sort(M)"
      ],
      "execution_count": 38,
      "outputs": [
        {
          "output_type": "execute_result",
          "data": {
            "text/plain": [
              "['compartir',\n",
              " 'ddddescarga',\n",
              " 'eeee',\n",
              " 'golazooo',\n",
              " 'goolazo',\n",
              " 'goool',\n",
              " 'nuevo',\n",
              " 'nuevos',\n",
              " 'ooo',\n",
              " 'usando',\n",
              " 'verifica',\n",
              " 'version']"
            ]
          },
          "metadata": {},
          "execution_count": 38
        }
      ]
    },
    {
      "cell_type": "markdown",
      "metadata": {
        "id": "SDospEvruBTs"
      },
      "source": [
        "3. Determina cuál es el mínimo número de comparaciones necsarias dada una lista $L$ de $n$ números para poder determinar si está ordenada o no. Describe un algoritmo con dicho mínimo y argumenta por qué con menos comparaciones no se puede.\n",
        "\n",
        "  Veamos que para verificar si una lista esta ordenada, bastaria con comparar por pares los elementos de la lista una vez. Es decir tomar `L[i]` el cual abemos que al estar ordenada la lista debe ser menor que `L[i+1]`. \n",
        "\n",
        "  La cantidad de pasos que le toma a la comparación ejecutarse, es igual a `n - 1`, pues el último elemento no requiere compararse con ningún otro. Es importante ver que no se puede lograr en menos iteraciones, pues en el peor de los casos, cuando la lista este ordenada, se necesitará comparar las entradas a pares, pues se necesita verificar que en efecto cada entrada es mayor que a anterior. Hacerlo a pares es la forma más eficiente, pues no puede existir ninguna pareja en una lista ordenada que no cumpla con el ordenamiento, y así solo tene mos que iterar sobre la lista una vez, en lugar de hacerlo para comparar cada entrada con el resto, por ejemplo.\n",
        "\n"
      ]
    },
    {
      "cell_type": "code",
      "metadata": {
        "id": "gZfM0sjMtv9B"
      },
      "source": [
        "def issort(L):\n",
        "  sort = True\n",
        "  for i in range(len(L)):\n",
        "    if L[i] <= L[i+1]:\n",
        "      return False\n",
        "  return(L)"
      ],
      "execution_count": 41,
      "outputs": []
    },
    {
      "cell_type": "code",
      "metadata": {
        "colab": {
          "base_uri": "https://localhost:8080/"
        },
        "id": "pnhTNPlf65Xn",
        "outputId": "1184a835-3951-4869-985e-6140ce950a4c"
      },
      "source": [
        "liste = [1, 2, 4, 15, 5, 16]\n",
        "  \n",
        "issort(liste)"
      ],
      "execution_count": 42,
      "outputs": [
        {
          "output_type": "execute_result",
          "data": {
            "text/plain": [
              "False"
            ]
          },
          "metadata": {},
          "execution_count": 42
        }
      ]
    },
    {
      "cell_type": "code",
      "metadata": {
        "colab": {
          "base_uri": "https://localhost:8080/"
        },
        "id": "AFLk1DIA1Y7W",
        "outputId": "f33dc04b-a267-4a1f-9369-36a070d12578"
      },
      "source": [
        "liste = [9, 4, 5, 8, 10]\n",
        "\n",
        "issort(liste)"
      ],
      "execution_count": 43,
      "outputs": [
        {
          "output_type": "execute_result",
          "data": {
            "text/plain": [
              "False"
            ]
          },
          "metadata": {},
          "execution_count": 43
        }
      ]
    },
    {
      "cell_type": "code",
      "metadata": {
        "id": "F3IoQoBk7MGF"
      },
      "source": [
        ""
      ],
      "execution_count": null,
      "outputs": []
    }
  ]
}