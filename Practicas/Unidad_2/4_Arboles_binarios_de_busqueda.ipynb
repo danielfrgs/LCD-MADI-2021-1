{
  "nbformat": 4,
  "nbformat_minor": 0,
  "metadata": {
    "colab": {
      "name": "Árboles Binarios de Búsqueda.ipynb",
      "provenance": [],
      "collapsed_sections": []
    },
    "kernelspec": {
      "display_name": "Python 3 (ipykernel)",
      "language": "python",
      "name": "python3"
    },
    "language_info": {
      "codemirror_mode": {
        "name": "ipython",
        "version": 3
      },
      "file_extension": ".py",
      "mimetype": "text/x-python",
      "name": "python",
      "nbconvert_exporter": "python",
      "pygments_lexer": "ipython3",
      "version": "3.8.8"
    }
  },
  "cells": [
    {
      "cell_type": "code",
      "metadata": {
        "id": "1iOUjRpoH404"
      },
      "source": [
        "import matplotlib.pyplot as plt\n",
        "\n",
        "import networkx as nx\n",
        "from networkx.drawing.nx_pydot import graphviz_layout"
      ],
      "execution_count": 1,
      "outputs": []
    },
    {
      "cell_type": "markdown",
      "metadata": {
        "id": "wY45CICJXqRW"
      },
      "source": [
        "En esta sesión veremos algunas operaciones y algoritmos que se pueden hacer en un árbol binario de búsqueda (BST por sus siglas en inglés), por ejemplo buscar e insertar elementos, así como construir un BST a partir de una lista de números dada."
      ]
    },
    {
      "cell_type": "markdown",
      "metadata": {
        "id": "0aU3GD13Yrrw"
      },
      "source": [
        "Para trabajar con un BST, lo primero que debemos hacer es definir la estructura de nuestros nodos en el árbol, donde cada nodo tiene un valor asignado, y dos apuntadores, uno para su hijo izquierdo y otro para su hijo derecho."
      ]
    },
    {
      "cell_type": "code",
      "metadata": {
        "id": "uq08iW4oZG2c"
      },
      "source": [
        "class Node:\n",
        "    def __init__(self, val):\n",
        "        self.val = val\n",
        "        self.left = None\n",
        "        self.right = None\n",
        "        \n",
        "        \n",
        "    def __repr__(self):\n",
        "        left = None if self.left is None else self.left.val\n",
        "        right = None if self.right is None else self.right.val\n",
        "        return f\"Valor: {self.val}\\nIzquierda: {left}\\nDerecha: {right}\""
      ],
      "execution_count": 2,
      "outputs": []
    },
    {
      "cell_type": "code",
      "metadata": {
        "colab": {
          "base_uri": "https://localhost:8080/"
        },
        "id": "vbyCgh2OH41D",
        "outputId": "cb1c3eee-50bd-4882-c0f4-1a51f1ad9c41"
      },
      "source": [
        "n = Node(4)\n",
        "n.left = Node(3)\n",
        "n.right = Node(5)\n",
        "print(n)"
      ],
      "execution_count": 3,
      "outputs": [
        {
          "output_type": "stream",
          "name": "stdout",
          "text": [
            "Valor: 4\n",
            "Izquierda: 3\n",
            "Derecha: 5\n"
          ]
        }
      ]
    },
    {
      "cell_type": "markdown",
      "metadata": {
        "id": "5KY7M0S0H41E"
      },
      "source": [
        "# Inserción y búsqueda"
      ]
    },
    {
      "cell_type": "markdown",
      "metadata": {
        "id": "3SLk58FxZaSv"
      },
      "source": [
        "Veamos las primeras dos operaciones básicas en un BST: buscar elementos, e insertar elementos. Para insertar elementos en un BST, procedemos de una forma muy similar a como se hace una búsqueda binaria: si queremos insertar el valor `x` y estamos en el nodo `n`, comparamos `n.value` con `x`, para lo cual existen tres casos posibles:\n",
        "\n",
        "* `x < n.value`: Nos desplazamos hacia el hijo de la izquierda. Si este no existe, lo volvemos `x`.\n",
        "* `x > n.value`: Nos desplazamos hacia el hijo de la derecha. Si este no existe, lo volvemos `x`.\n",
        "* `x = n.value`: No hacemos nada, ya que no puede haber elementos duplicados en el BST."
      ]
    },
    {
      "cell_type": "code",
      "metadata": {
        "id": "UfRZHkVvH41G"
      },
      "source": [
        "class Node:\n",
        "    def __init__(self, val):\n",
        "        self.val = val\n",
        "        self.left = None\n",
        "        self.right = None\n",
        "        \n",
        "        \n",
        "    def __repr__(self):\n",
        "        left = None if self.left is None else self.left.val\n",
        "        right = None if self.right is None else self.right.val\n",
        "        return f\"Valor: {self.val}\\nIzquierda: {left}\\nDerecha: {right}\"\n",
        "       \n",
        "    \n",
        "    def insert(self, x):\n",
        "        if self.val == x:\n",
        "            return\n",
        "\n",
        "        elif x < self.val:\n",
        "            if self.left is not None:\n",
        "                self.left.insert(x)\n",
        "            else:\n",
        "                self.left = Node(x)\n",
        "        else:\n",
        "            if self.right is not None:\n",
        "                self.right.insert(x)\n",
        "            else:\n",
        "                self.right = Node(x)"
      ],
      "execution_count": 4,
      "outputs": []
    },
    {
      "cell_type": "code",
      "metadata": {
        "colab": {
          "base_uri": "https://localhost:8080/"
        },
        "id": "USKh5yOGH41J",
        "outputId": "452fd2c9-0def-47d1-9f65-9d57147aea68"
      },
      "source": [
        "root = Node(0)\n",
        "root.insert(1)\n",
        "root.insert(-2)\n",
        "root.insert(2)\n",
        "root"
      ],
      "execution_count": 5,
      "outputs": [
        {
          "output_type": "execute_result",
          "data": {
            "text/plain": [
              "Valor: 0\n",
              "Izquierda: -2\n",
              "Derecha: 1"
            ]
          },
          "metadata": {},
          "execution_count": 5
        }
      ]
    },
    {
      "cell_type": "markdown",
      "metadata": {
        "id": "4jKp1ABrH41L"
      },
      "source": [
        "Para buscar un elemento, el procedimiento es prácticamente el mismo que en la inserción:\n",
        "\n",
        "* `x < n.value`: Nos desplazamos hacia el hijo de la izquierda. Si este no existe, significa que `x` no está en el árbol.\n",
        "* `x < n.value`: Nos desplazamos hacia el hijo de la derecha. Si este no existe, significa que `x` no está en el árbol.\n",
        "* `x = n.value`: `n` es el nodo que buscamos, así que lo regresamos."
      ]
    },
    {
      "cell_type": "code",
      "metadata": {
        "id": "VwDWOY5QbBlF"
      },
      "source": [
        "class Node:\n",
        "    def __init__(self, val):\n",
        "        self.val = val\n",
        "        self.left = None\n",
        "        self.right = None\n",
        "        \n",
        "        \n",
        "    def __repr__(self):\n",
        "        left = None if self.left is None else self.left.val\n",
        "        right = None if self.right is None else self.right.val\n",
        "        return f\"Valor: {self.val}\\nIzquierda: {left}\\nDerecha: {right}\"\n",
        "       \n",
        "    \n",
        "    def insert(self, x):\n",
        "        if x == self.val:\n",
        "            return\n",
        "        elif x < self.val:\n",
        "            if self.left is not None:\n",
        "                self.left.insert(x)\n",
        "            else:\n",
        "                self.left = Node(x)\n",
        "        elif x > self.val:\n",
        "            if self.right is not None:\n",
        "                self.right.insert(x)\n",
        "            else:\n",
        "                self.right = Node(x)\n",
        "                \n",
        "                \n",
        "    def search(self, x):\n",
        "        if self.val == x:\n",
        "            return self\n",
        "        elif x < self.val:\n",
        "            if self.left is None:\n",
        "                return\n",
        "            else:\n",
        "                return self.left.search(x)\n",
        "        elif x > self.val:\n",
        "            if self.right is None:\n",
        "                return\n",
        "            else:\n",
        "                return self.right.search(x)"
      ],
      "execution_count": 201,
      "outputs": []
    },
    {
      "cell_type": "code",
      "metadata": {
        "id": "mgdtBM5PH41N"
      },
      "source": [
        "root = Node(0)\n",
        "root.insert(1)\n",
        "root.insert(-2)\n",
        "root.insert(2)\n",
        "\n",
        "root.search(3)"
      ],
      "execution_count": 7,
      "outputs": []
    },
    {
      "cell_type": "markdown",
      "metadata": {
        "id": "xAo2PnbplvHU"
      },
      "source": [
        "# Recorridos\n",
        "\n",
        "Veremos ahora dos de las formas más comunes de recorrer un BST: in-order y pre-order traversal. Usaremos el siguiente árbol:\n",
        "\n",
        "```\n",
        "          4\n",
        "        /    \\\n",
        "       2      6\n",
        "      / \\    / \\\n",
        "     1   3  5   7\n",
        "    /            \\\n",
        "   0              8\n",
        "```   "
      ]
    },
    {
      "cell_type": "code",
      "metadata": {
        "id": "I2oEeHVvH41O"
      },
      "source": [
        "tree = Node(4)\n",
        "tree.insert(2)\n",
        "tree.insert(1)\n",
        "tree.insert(0)\n",
        "tree.insert(3)\n",
        "tree.insert(6)\n",
        "tree.insert(5)\n",
        "tree.insert(7)\n",
        "tree.insert(8)\n"
      ],
      "execution_count": 23,
      "outputs": []
    },
    {
      "cell_type": "markdown",
      "metadata": {
        "id": "Vx6idSooH41O"
      },
      "source": [
        "## In-order\n",
        "\n",
        "In-order traversal nos permite rescatar la lista de números de manera ordenada, visita primero todo lo que hay a la izquierda de la raíz, después la raíz y posteriormente el hijo derecho, haciendo esto de manera recursiva. Esto nos será muy útil para después poder eliminar elementos en un árbol binario de búsqueda. Veamos un ejemplo de un in-order traversal en un árbol de este tipo."
      ]
    },
    {
      "cell_type": "code",
      "metadata": {
        "colab": {
          "base_uri": "https://localhost:8080/"
        },
        "id": "V1JkuiDrmY-s",
        "outputId": "8471419c-c1fa-40ea-cf01-449d30ef73f7"
      },
      "source": [
        "def in_order(root):\n",
        "    if root is not None:\n",
        "        in_order(root.left)\n",
        "        print(root.val) # aquí es donde visitamos\n",
        "        in_order(root.right)\n",
        "    else:\n",
        "        return\n",
        "\n",
        "in_order(tree)"
      ],
      "execution_count": 24,
      "outputs": [
        {
          "output_type": "stream",
          "name": "stdout",
          "text": [
            "0\n",
            "1\n",
            "2\n",
            "3\n",
            "4\n",
            "5\n",
            "6\n",
            "7\n",
            "8\n"
          ]
        }
      ]
    },
    {
      "cell_type": "markdown",
      "metadata": {
        "id": "VlxWH1BkmzLf"
      },
      "source": [
        "Notemos que con este tipo de ideas podemos encontrar el mínimo valor y el máximo valor en un árbol binario de búsqueda.\n",
        "\n",
        "## Pre-order\n",
        "\n",
        "Consiste en visitar el nodo actual, después lo que hay en su hijo izquierdo y después en su hijo derecho. Podemos notar que es un recorrido particular de un recorrido de DFS en un árbol."
      ]
    },
    {
      "cell_type": "code",
      "metadata": {
        "colab": {
          "base_uri": "https://localhost:8080/"
        },
        "id": "WDcHJeRinEYW",
        "outputId": "c13ca5b8-aec7-46e3-b8f5-d51bebc0027e"
      },
      "source": [
        "def pre_order(root):\n",
        "    if root is not None:\n",
        "        print(root.val)\n",
        "        pre_order(root.left)\n",
        "        pre_order(root.right)\n",
        "    else:\n",
        "        return\n",
        "\n",
        "pre_order(tree)"
      ],
      "execution_count": 25,
      "outputs": [
        {
          "output_type": "stream",
          "name": "stdout",
          "text": [
            "4\n",
            "2\n",
            "1\n",
            "0\n",
            "3\n",
            "6\n",
            "5\n",
            "7\n",
            "8\n"
          ]
        }
      ]
    },
    {
      "cell_type": "markdown",
      "metadata": {
        "id": "Yn6Z05UEH41R"
      },
      "source": [
        "## Post-order\n",
        "\n",
        "Consiste en visitar el subárbol izquierdo, luego el derecho, y finalmente el nodo actual. "
      ]
    },
    {
      "cell_type": "code",
      "metadata": {
        "colab": {
          "base_uri": "https://localhost:8080/"
        },
        "id": "tFUGyyqoH41R",
        "outputId": "8013c283-3309-4ebf-ce73-d0e9aba24b45"
      },
      "source": [
        "def post_order(root):\n",
        "    if root is not None:\n",
        "        pre_order(root.left)\n",
        "        pre_order(root.right)\n",
        "        print(root.val)\n",
        "    else:\n",
        "        return\n",
        "\n",
        "post_order(tree)"
      ],
      "execution_count": 26,
      "outputs": [
        {
          "output_type": "stream",
          "name": "stdout",
          "text": [
            "2\n",
            "1\n",
            "0\n",
            "3\n",
            "6\n",
            "5\n",
            "7\n",
            "8\n",
            "4\n"
          ]
        }
      ]
    },
    {
      "cell_type": "markdown",
      "metadata": {
        "id": "wpSf3pF7H41S"
      },
      "source": [
        "# Graficado\n",
        "\n",
        "Nótese que podemos utilizar cualquiera de las caminatas anteriores para construir una gráfica de `networkx` a partir de nuestro árbol: cada vez que visitamos un nodo, lo añadimos a él y a sus hijos a la gráfica, junto con las aristas que los unen:"
      ]
    },
    {
      "cell_type": "code",
      "metadata": {
        "id": "T69P1DXJH41S"
      },
      "source": [
        "def build_graph(root, g=None):\n",
        "    if g is None:\n",
        "        g = nx.Graph()\n",
        "    \n",
        "    if root is not None:\n",
        "        build_graph(root.left, g)\n",
        "        g.add_node(root.val)\n",
        "        if root.left is not None:\n",
        "            g.add_edge(root.val, root.left.val)\n",
        "        if root.right is not None:\n",
        "            g.add_edge(root.val, root.right.val)\n",
        "        build_graph(root.right, g)\n",
        "    return g"
      ],
      "execution_count": 27,
      "outputs": []
    },
    {
      "cell_type": "markdown",
      "metadata": {
        "id": "XrvZ4sMTH41S"
      },
      "source": [
        "Para asegurarnos que al momento de graficar se vea como un árbol, usamos el layout `dot` de `graphviz`:"
      ]
    },
    {
      "cell_type": "code",
      "metadata": {
        "colab": {
          "base_uri": "https://localhost:8080/",
          "height": 466
        },
        "id": "_0zo4qz8H41T",
        "outputId": "b5ad7f1f-deb0-41a2-8855-c0cc9fd6fea2"
      },
      "source": [
        "g = build_graph(tree)\n",
        "\n",
        "fig, ax = plt.subplots(figsize=(10,8))\n",
        "pos = graphviz_layout(g, prog=\"dot\")\n",
        "nx.draw(g, with_labels=True, ax=ax, pos=pos)"
      ],
      "execution_count": 28,
      "outputs": [
        {
          "output_type": "display_data",
          "data": {
            "image/png": "[encoded data removed]",
            "text/plain": [
              "<Figure size 720x576 with 1 Axes>"
            ]
          },
          "metadata": {}
        }
      ]
    },
    {
      "cell_type": "markdown",
      "metadata": {
        "id": "JF8fyB0-pvrO"
      },
      "source": [
        "# Borrado\n",
        "\n",
        "Veamos ahora cómo eliminar un nodo $N$ de un BST. Notemos que hay tres casos posibles:\n",
        "\n",
        "\n",
        "*   Si $N$ no tiene hijos, es suficiente con eliminar dicho nodo.\n",
        "*   Si $N$ tiene únicamente un hijo, reemplazamos el nodo $N$ por su hijo.\n",
        "*   Si $N$ tiene dos hijos, tenemos que reacomodar de una manera más sofisticada los nodos para que siga siendo un BST. Esto podemos hacerlo con el siguiente algoritmo:\n",
        "\n",
        "    1. Encontramos el siguiente nodo con un valor mayor a $N$, i.e., su sucesor en in-order traversal; llámese $S$. Nótese que este nodo es el que tiene menor valor del subárbol derecho.  \n",
        "    2. Reemplazamos el valor de $N$ con el de $S$.\n",
        "    3. Borramos $S$, esto último se puede hacer sin problemas pues el sucesor de un nodo con dos hijos es necesariamente una hoja, ya que es el valor mínimo en el subárbol con raíz en su hijo derecho.\n",
        "\n",
        "Para hacer esto, necesitaremos una función que nos permita encontrar el valor mínimo en un sub árbol a partir de cierto nodo. "
      ]
    },
    {
      "cell_type": "code",
      "metadata": {
        "id": "8fomnARuH41T"
      },
      "source": [
        "def min_value(root):\n",
        "    if root is not None:\n",
        "        while root.left is not None:\n",
        "            root = root.left\n",
        "        return root\n",
        "    else:\n",
        "        return None"
      ],
      "execution_count": 14,
      "outputs": []
    },
    {
      "cell_type": "markdown",
      "metadata": {
        "id": "bTi8gdIjH41U"
      },
      "source": [
        "Ahora, implementamos el algoritmo de borrado de modo que si pedimos eliminar un valor que no existe, el BST no se vea modificado y no haya problemas."
      ]
    },
    {
      "cell_type": "code",
      "metadata": {
        "colab": {
          "base_uri": "https://localhost:8080/"
        },
        "id": "IKSfTTRTsEi9",
        "outputId": "0f7f6e24-32f8-4224-d14f-7b3c70f682f7"
      },
      "source": [
        "def delete(root, x):\n",
        "    if root is not None:\n",
        "        if root.val == x:\n",
        "            if root.left is None: # Tiene a lo más un hijo, el derecho\n",
        "                new = root.right\n",
        "                root = None # Vaciamos el nodo root\n",
        "                return new\n",
        "            elif root.right is None: # Tiene sólo el hijo izquierdo\n",
        "                new = root.left\n",
        "                root = None\n",
        "                return new\n",
        "            else: # Tiene ambos hijos\n",
        "                new = min_value(root.right)\n",
        "                root.val = new.val\n",
        "                root.right = delete(root.right, new.val)\n",
        "                return root\n",
        "        else: \n",
        "            if root.val < x:\n",
        "                root.right = delete(root.right, x)\n",
        "            else:\n",
        "                root.left = delete(root.left, x)\n",
        "            return root\n",
        "    else:\n",
        "        return None\n",
        "\n",
        "\n",
        "# rd = Node(L[0])\n",
        "# for l in L[1:]:\n",
        "#     rd.insert(l)\n",
        "\n",
        "delete(tree, 4)\n",
        "#in_order(rd)"
      ],
      "execution_count": 17,
      "outputs": [
        {
          "output_type": "execute_result",
          "data": {
            "text/plain": [
              "Valor: 5\n",
              "Izquierda: 2\n",
              "Derecha: 6"
            ]
          },
          "metadata": {},
          "execution_count": 17
        }
      ]
    },
    {
      "cell_type": "markdown",
      "metadata": {
        "id": "69jhPhSHH41U"
      },
      "source": [
        "# Reconstrucción"
      ]
    },
    {
      "cell_type": "markdown",
      "metadata": {
        "id": "KuLUDLW53IJq"
      },
      "source": [
        "Veamos un último ejemplo. Supongamos que se tiene una lista no vacía de enteros distintos $L$, tal que $L$ es el pre-order de un árbol binario de búsqueda, nuestro objetivo es reconstruir dicho BST.\n",
        "\n",
        "Una primer idea para atacar este problema sería hacer lo que ya hicimos previamente, ir agregando elemento por elemento usando nuestra función de insertar, sin ambargo, hacer esto nos puede tomar $O(n^2)$ en tiempo (si nuestro árbol resulta ser un camino). \n",
        "\n",
        "Optimizaremos nuestro algoritmo usando una pila. Comenzamos con una pila $P$ a la que agregamos el primer valor de la lista $L$, el cual también lo haremos la raíz de nuestro BST. Posteriormente vamos a iterar sobre los elementos de $L$, y tenemos dos casos:\n",
        "\n",
        "*   Si el elemento actual es menor que el elemento en la cima de la pila, hacemos que este elemento sea hijo izquierdo de la cima, y agregamos el nodo a la pila.\n",
        "*   Si el elemento actual es mayor que el elemento en la cima de la pila, removemos dicha cima de la pila, y continuamos removiendo elementos hasta llegar a que la pila sea vacía o que el elemento en la cima sea mayor que el actual, y hacemos que el elemento actual sea el hijo derecho del último elemento que se removió de la pila. Posteriormente agregamos el nodo con valor el elemento actual a la pila.\n",
        "\n",
        "Veamos una implementación de este algoritmo.\n",
        "\n"
      ]
    },
    {
      "cell_type": "code",
      "metadata": {
        "colab": {
          "base_uri": "https://localhost:8080/",
          "height": 351
        },
        "id": "ij2_W0wGnFX5",
        "outputId": "abcca26a-ac59-490e-be3a-d880f69a2c58"
      },
      "source": [
        "from collections import deque\n",
        "\n",
        "def construct_BST(L):\n",
        "    root = node(L[0])\n",
        "    queue = deque()\n",
        "    queue.append(root)\n",
        "    for i in range (1, len(L)):\n",
        "        if L[i] < queue[-1].value:\n",
        "            curr = node(L[i])\n",
        "            queue[-1].left = curr\n",
        "            queue.append(curr)\n",
        "        else:\n",
        "            curr = node(L[i])\n",
        "            last = queue[-1]\n",
        "            while queue:\n",
        "                if(L[i] < queue[-1].value):\n",
        "                    break\n",
        "                else:\n",
        "                    last = queue[-1]\n",
        "                    queue.pop()\n",
        "            last.right = curr\n",
        "            queue.append(curr)\n",
        "    return root\n",
        "\n",
        "BST_from_L = construct_BST([2, 1, 7, 4, 3, 6, 5, 8])\n",
        "in_order(BST_from_L)\n",
        "print('------------')\n",
        "pre_order(BST_from_L)"
      ],
      "execution_count": 18,
      "outputs": [
        {
          "output_type": "error",
          "ename": "NameError",
          "evalue": "ignored",
          "traceback": [
            "\u001b[0;31m---------------------------------------------------------------------------\u001b[0m",
            "\u001b[0;31mNameError\u001b[0m                                 Traceback (most recent call last)",
            "\u001b[0;32m<ipython-input-18-3660803d4a1b>\u001b[0m in \u001b[0;36m<module>\u001b[0;34m()\u001b[0m\n\u001b[1;32m     23\u001b[0m     \u001b[0;32mreturn\u001b[0m \u001b[0mroot\u001b[0m\u001b[0;34m\u001b[0m\u001b[0;34m\u001b[0m\u001b[0m\n\u001b[1;32m     24\u001b[0m \u001b[0;34m\u001b[0m\u001b[0m\n\u001b[0;32m---> 25\u001b[0;31m \u001b[0mBST_from_L\u001b[0m \u001b[0;34m=\u001b[0m \u001b[0mconstruct_BST\u001b[0m\u001b[0;34m(\u001b[0m\u001b[0;34m[\u001b[0m\u001b[0;36m2\u001b[0m\u001b[0;34m,\u001b[0m \u001b[0;36m1\u001b[0m\u001b[0;34m,\u001b[0m \u001b[0;36m7\u001b[0m\u001b[0;34m,\u001b[0m \u001b[0;36m4\u001b[0m\u001b[0;34m,\u001b[0m \u001b[0;36m3\u001b[0m\u001b[0;34m,\u001b[0m \u001b[0;36m6\u001b[0m\u001b[0;34m,\u001b[0m \u001b[0;36m5\u001b[0m\u001b[0;34m,\u001b[0m \u001b[0;36m8\u001b[0m\u001b[0;34m]\u001b[0m\u001b[0;34m)\u001b[0m\u001b[0;34m\u001b[0m\u001b[0;34m\u001b[0m\u001b[0m\n\u001b[0m\u001b[1;32m     26\u001b[0m \u001b[0min_order\u001b[0m\u001b[0;34m(\u001b[0m\u001b[0mBST_from_L\u001b[0m\u001b[0;34m)\u001b[0m\u001b[0;34m\u001b[0m\u001b[0;34m\u001b[0m\u001b[0m\n\u001b[1;32m     27\u001b[0m \u001b[0mprint\u001b[0m\u001b[0;34m(\u001b[0m\u001b[0;34m'------------'\u001b[0m\u001b[0;34m)\u001b[0m\u001b[0;34m\u001b[0m\u001b[0;34m\u001b[0m\u001b[0m\n",
            "\u001b[0;32m<ipython-input-18-3660803d4a1b>\u001b[0m in \u001b[0;36mconstruct_BST\u001b[0;34m(L)\u001b[0m\n\u001b[1;32m      2\u001b[0m \u001b[0;34m\u001b[0m\u001b[0m\n\u001b[1;32m      3\u001b[0m \u001b[0;32mdef\u001b[0m \u001b[0mconstruct_BST\u001b[0m\u001b[0;34m(\u001b[0m\u001b[0mL\u001b[0m\u001b[0;34m)\u001b[0m\u001b[0;34m:\u001b[0m\u001b[0;34m\u001b[0m\u001b[0;34m\u001b[0m\u001b[0m\n\u001b[0;32m----> 4\u001b[0;31m     \u001b[0mroot\u001b[0m \u001b[0;34m=\u001b[0m \u001b[0mnode\u001b[0m\u001b[0;34m(\u001b[0m\u001b[0mL\u001b[0m\u001b[0;34m[\u001b[0m\u001b[0;36m0\u001b[0m\u001b[0;34m]\u001b[0m\u001b[0;34m)\u001b[0m\u001b[0;34m\u001b[0m\u001b[0;34m\u001b[0m\u001b[0m\n\u001b[0m\u001b[1;32m      5\u001b[0m     \u001b[0mqueue\u001b[0m \u001b[0;34m=\u001b[0m \u001b[0mdeque\u001b[0m\u001b[0;34m(\u001b[0m\u001b[0;34m)\u001b[0m\u001b[0;34m\u001b[0m\u001b[0;34m\u001b[0m\u001b[0m\n\u001b[1;32m      6\u001b[0m     \u001b[0mqueue\u001b[0m\u001b[0;34m.\u001b[0m\u001b[0mappend\u001b[0m\u001b[0;34m(\u001b[0m\u001b[0mroot\u001b[0m\u001b[0;34m)\u001b[0m\u001b[0;34m\u001b[0m\u001b[0;34m\u001b[0m\u001b[0m\n",
            "\u001b[0;31mNameError\u001b[0m: name 'node' is not defined"
          ]
        }
      ]
    },
    {
      "cell_type": "markdown",
      "metadata": {
        "id": "OurqpW9Nvra5"
      },
      "source": [
        "# Ejercicios\n",
        "\n",
        "## Ejercicio 1\n",
        "Escribe una función para determinar si un árbol dado es un BST o no. Da ejemplos para ambos casos."
      ]
    },
    {
      "cell_type": "markdown",
      "metadata": {
        "id": "UHQAWthjH41V"
      },
      "source": [
        "Para que un árbol sea un BTS, primero debe ser *per se* un arbol binario, y además, como lo visto en clase sabemos que para que sea un BST, debe de cumplir que los sub arboles izquierdos de un nodo, deben de ser de un 'valor' menor.  Usemos estas dos caracteristicas para determinar si un arbol arbitrario es BST.\n",
        "\n",
        "1. Vamos a asumir que la función recibe un árbol.\n",
        "\n",
        "2. Vamos a verificar que los sub arboles izquierdos sean menores que sus nodos a la derecha, y a su vez debemos que verificar que todos los sub árboles derechos sean en efecto mayores que los nodos a su izquierda.\n",
        "\n",
        "3. Notemos que no basta con ir verificanndo los sub árboles solo directamente con sus nodos anteriores, pues puede darse un caso donde un nodo a la derecha sea en efecto mayor que su nodo antecedente, pero puede ser mayor que el propio nodo raíz, por lo que dejaría de ser un árbol binario de búsqueda.\n",
        "\n",
        "Sabemos que cada nodo, tiene un nodo a la izquierda o derecha, que sea un arbol binario de busqueda depende de estas características, como vimos en clase, cada árbol se definia mediante la clase `Node` el cual asignaba dichas caracteriticas. Podemos utilizar dichas caracteristicas para determinar si un arbol dado de la clase `Node` es en efecto un BST.\n",
        "\n",
        "Entonces, vamos a crear una función que reciba un árbol de la clase `Node`, pero además, vamos a utilizar dos parámetros, `max`y `min` que serviran como parámetros de control para las comparaciones.\n",
        "\n",
        "Notemos que puede darse el caso, donde no todos los nodos, tengan un nodo izquierdo o derecho, en esos casos, no es posible realizar la comparación, asi que necesitamos, verificar que en efecto siga siendo un nodo de clase `Node`.\n",
        "\n",
        "Luego podemos hacer las comparaciones, en una primera iteración vamos a necesitar ierar sobre el nodo raíz, y compararlo con os parametros de control, pero estos parametros se irán modifcando con cada iteración.\n",
        "\n",
        "Por sus caracteristicas, si es un BST, debe de cumplir que \n",
        " \n",
        " - `nodo_izquierdo < nodo`, donde `nodo_izquierdo` es el nodo a la izquerda del nodo padre de ese sub árbol.\n",
        " - `nodo_derecha > nodo`.\n",
        "\n",
        "Sin embargo, estas comparaciones si se hacen simultaneamente pueden dejar casos en los que esas comparaciones se cumplen, pero el árbol no es un BST. Aquí entran los parámetros de control.\n",
        "\n",
        "Si en lugar de comparar al mismo tiempo los nodos izquierdos, y derecho, se comparan en iteraciones separadas, y entonces ahora tenemos que comprobar que:\n",
        "\n",
        "- `nodo_izquierda < nodo`\n",
        "- `nodo_izquierda < nodoant`, donde `nodoant` es el nodo anterior al nodo del que se desprende el `nodo_izquierda`.\n",
        "\n",
        "Y de forma análoga para los nodos que se disribuyan poor la derecha. Entonces, vamos a hacer durante los primeros niveles del arbo una compracion con los parámetros de conrol, y recursivamente vamos a llamar a la función sustituyendo esos valores, hasta que se compare con los nodos antesesores:\n",
        "\n"
      ]
    },
    {
      "cell_type": "code",
      "metadata": {
        "id": "VLKRbhusQwJy"
      },
      "source": [
        "def is_BST(tree, a, b):\n",
        "  # Verificación que si tenga el aributo de valor, si se llega al final y no retorno Falso.\n",
        "  # entonces es un BST\n",
        "  if tree == None:\n",
        "    return True\n",
        "  # Comparaciones\n",
        "  if tree.val < a:\n",
        "    return False\n",
        "  if tree.val > b:\n",
        "    return False\n",
        "\n",
        "  # Inicia recursividad, los valores por la izquierda se comparan si tree.left < tree.val\n",
        "  # Si se va por la derecha se compara si tree.right > tree.val\n",
        "  # En la segunda recurción, es decir en el segundo nivel del arbol, cuando ya haya al menos dos antecedentes\n",
        "  # se comparará con esos támbien.\n",
        "  return isBST(tree.right, tree.val, b) and isBST(tree.left, a, tree.val) "
      ],
      "execution_count": 293,
      "outputs": []
    },
    {
      "cell_type": "markdown",
      "metadata": {
        "id": "kHF_JwtMKzJI"
      },
      "source": [
        "**Ejemplos**"
      ]
    },
    {
      "cell_type": "code",
      "metadata": {
        "id": "smAhRl7nJkpw"
      },
      "source": [
        "a = -10000\n",
        "b = 10000"
      ],
      "execution_count": 294,
      "outputs": []
    },
    {
      "cell_type": "code",
      "metadata": {
        "colab": {
          "base_uri": "https://localhost:8080/",
          "height": 466
        },
        "id": "ayCzDEk1vFIv",
        "outputId": "4d3599fc-0b71-49b7-9b3d-8b5a5afd1ee3"
      },
      "source": [
        "root1 = Node(5)\n",
        "root1.left = Node(1) \n",
        "root1.right = Node(8) \n",
        "root1.right.left = Node(9)\n",
        "root1.right.right = Node(12)\n",
        "\n",
        "g = build_graph(root1)\n",
        "\n",
        "fig, ax = plt.subplots(figsize=(10,8))\n",
        "pos = graphviz_layout(g, prog=\"dot\")\n",
        "nx.draw(g, with_labels=True, ax=ax, pos=pos)"
      ],
      "execution_count": 295,
      "outputs": [
        {
          "output_type": "display_data",
          "data": {
            "image/png": "[encoded data removed]",
            "text/plain": [
              "<Figure size 720x576 with 1 Axes>"
            ]
          },
          "metadata": {}
        }
      ]
    },
    {
      "cell_type": "code",
      "metadata": {
        "colab": {
          "base_uri": "https://localhost:8080/"
        },
        "id": "9rU_QcXSAfKf",
        "outputId": "4d68dc83-d15d-447c-9830-3903e6e785fd"
      },
      "source": [
        "is_BST(root1, a, b)"
      ],
      "execution_count": 296,
      "outputs": [
        {
          "output_type": "execute_result",
          "data": {
            "text/plain": [
              "False"
            ]
          },
          "metadata": {},
          "execution_count": 296
        }
      ]
    },
    {
      "cell_type": "code",
      "metadata": {
        "colab": {
          "base_uri": "https://localhost:8080/",
          "height": 466
        },
        "id": "usOHERuhKXOb",
        "outputId": "eb57c506-f9a4-4ac8-94f4-28218c3d7488"
      },
      "source": [
        "root2 = Node(8)\n",
        "root2.left = Node(6) \n",
        "root2.left.left = Node(4)\n",
        "\n",
        "g = build_graph(root2)\n",
        "\n",
        "fig, ax = plt.subplots(figsize=(10,8))\n",
        "pos = graphviz_layout(g, prog=\"dot\")\n",
        "nx.draw(g, with_labels=True, ax=ax, pos=pos)"
      ],
      "execution_count": 298,
      "outputs": [
        {
          "output_type": "display_data",
          "data": {
            "image/png": "[encoded data removed]",
            "text/plain": [
              "<Figure size 720x576 with 1 Axes>"
            ]
          },
          "metadata": {}
        }
      ]
    },
    {
      "cell_type": "code",
      "metadata": {
        "colab": {
          "base_uri": "https://localhost:8080/"
        },
        "id": "qxMq1oifKyjE",
        "outputId": "f2e26fc8-4c93-4b94-ba19-0cd0ac9b1a29"
      },
      "source": [
        "is_BST(root2, a, b)"
      ],
      "execution_count": 297,
      "outputs": [
        {
          "output_type": "execute_result",
          "data": {
            "text/plain": [
              "True"
            ]
          },
          "metadata": {},
          "execution_count": 297
        }
      ]
    },
    {
      "cell_type": "code",
      "metadata": {
        "colab": {
          "base_uri": "https://localhost:8080/",
          "height": 466
        },
        "id": "FLVLS03AK6gE",
        "outputId": "b4c1ec56-3126-4807-a592-dbc2d953b4bb"
      },
      "source": [
        "root3 = Node(10)\n",
        "root3.left = Node(5) \n",
        "root3.right = Node(16) \n",
        "root3.left.left = Node(4)\n",
        "root3.left.right = Node(7)\n",
        "root3.left.left.left = Node(1)\n",
        "root3.left.right.right = Node(11)\n",
        "\n",
        "\n",
        "g = build_graph(root3)\n",
        "\n",
        "fig, ax = plt.subplots(figsize=(10,8))\n",
        "pos = graphviz_layout(g, prog=\"dot\")\n",
        "nx.draw(g, with_labels=True, ax=ax, pos=pos)"
      ],
      "execution_count": 300,
      "outputs": [
        {
          "output_type": "display_data",
          "data": {
            "image/png": "[encoded data removed]",
            "text/plain": [
              "<Figure size 720x576 with 1 Axes>"
            ]
          },
          "metadata": {}
        }
      ]
    },
    {
      "cell_type": "code",
      "metadata": {
        "colab": {
          "base_uri": "https://localhost:8080/"
        },
        "id": "XpoJl4gvLeHK",
        "outputId": "6e7988ca-56e0-4ef7-dc85-1e6c37b4c2db"
      },
      "source": [
        "is_BST(root3, a, b)"
      ],
      "execution_count": 303,
      "outputs": [
        {
          "output_type": "execute_result",
          "data": {
            "text/plain": [
              "False"
            ]
          },
          "metadata": {},
          "execution_count": 303
        }
      ]
    },
    {
      "cell_type": "code",
      "metadata": {
        "colab": {
          "base_uri": "https://localhost:8080/",
          "height": 466
        },
        "id": "XepJwvkZQPSv",
        "outputId": "7ea1f774-ffed-463e-dce6-df2fb37be224"
      },
      "source": [
        "root4 = Node(7)\n",
        "root4.left = Node(4) \n",
        "root4.right = Node(9) \n",
        "root4.left.left = Node(1)\n",
        "root4.left.right = Node(6)\n",
        "\n",
        "g = build_graph(root4)\n",
        "\n",
        "fig, ax = plt.subplots(figsize=(10,8))\n",
        "pos = graphviz_layout(g, prog=\"dot\")\n",
        "nx.draw(g, with_labels=True, ax=ax, pos=pos)"
      ],
      "execution_count": 302,
      "outputs": [
        {
          "output_type": "display_data",
          "data": {
            "image/png": "[encoded data removed]",
            "text/plain": [
              "<Figure size 720x576 with 1 Axes>"
            ]
          },
          "metadata": {}
        }
      ]
    },
    {
      "cell_type": "code",
      "metadata": {
        "colab": {
          "base_uri": "https://localhost:8080/"
        },
        "id": "dDV9Q4swQf7E",
        "outputId": "f9dc06cb-aa62-410a-b504-855b188d0011"
      },
      "source": [
        "is_BST(root4, a, b)"
      ],
      "execution_count": 305,
      "outputs": [
        {
          "output_type": "execute_result",
          "data": {
            "text/plain": [
              "True"
            ]
          },
          "metadata": {},
          "execution_count": 305
        }
      ]
    },
    {
      "cell_type": "markdown",
      "metadata": {
        "id": "_Dox5oJ4H41W"
      },
      "source": [
        "## Ejercicio 2\n",
        "\n",
        "Determina si para cualquier lista de enteros distintos existe algún BST tal que su pre-order traversal coincida con la lista inicial. En caso afirmativo da una demostración, en caso negativo muestra un contraejemplo."
      ]
    },
    {
      "cell_type": "markdown",
      "metadata": {
        "id": "gbflPUNWpUoY"
      },
      "source": [
        "Si consideramos una lista cualquiera, cuya unica restricción es que sea no vacía, y sea de enteros posiivos, la afirmación resulta falsa. Pues recordemos que el Pre-Order transversal es un recorrido por la izquierda del árbol binario, así que solo basta poner un número mayor o menor de forma que el arbol no se pueda formar y que por lo tanto su recorrido no se genere."
      ]
    },
    {
      "cell_type": "markdown",
      "metadata": {
        "id": "QNlRPtUzuohI"
      },
      "source": [
        "Para construir un contraejemplo, vamos a crear un arbol binario de busqueda:"
      ]
    },
    {
      "cell_type": "code",
      "metadata": {
        "id": "BT6teT1dxeW_"
      },
      "source": [
        "'''\n",
        "          5\n",
        "        /   \\\n",
        "       3      6\n",
        "      / \\\n",
        "     2   4\n",
        "    /\n",
        "   1\n",
        "'''\n",
        "tree = Node(5)\n",
        "tree.left = Node(3) \n",
        "tree.right = Node(6) \n",
        "tree.left.left = Node(2)\n",
        "tree.left.right = Node(4)\n",
        "tree.left.left.left = Node(1)"
      ],
      "execution_count": 290,
      "outputs": []
    },
    {
      "cell_type": "code",
      "metadata": {
        "colab": {
          "base_uri": "https://localhost:8080/"
        },
        "id": "GnIm_4kn0REG",
        "outputId": "fdd04397-2739-436a-9ebf-5e7fe31474be"
      },
      "source": [
        "# Verifiquemos que se trate de un arbol binario\n",
        "isBST(tree, mini, maxi)"
      ],
      "execution_count": 291,
      "outputs": [
        {
          "output_type": "execute_result",
          "data": {
            "text/plain": [
              "True"
            ]
          },
          "metadata": {},
          "execution_count": 291
        }
      ]
    },
    {
      "cell_type": "code",
      "metadata": {
        "colab": {
          "base_uri": "https://localhost:8080/"
        },
        "id": "JwuBKDJeH41W",
        "outputId": "8e601d0d-a6fd-49a4-c8f7-1626d2dd019f"
      },
      "source": [
        "# Obtengamos el Pre Order\n",
        "pre_order(tree)"
      ],
      "execution_count": 292,
      "outputs": [
        {
          "output_type": "stream",
          "name": "stdout",
          "text": [
            "5\n",
            "3\n",
            "2\n",
            "1\n",
            "4\n",
            "6\n"
          ]
        }
      ]
    },
    {
      "cell_type": "markdown",
      "metadata": {
        "id": "LliupLe71m3c"
      },
      "source": [
        "Por lo que solo resta, cambiar a nuesra lista de lugar los dos ultimos valores, tal que $X = [5, 3, 2, 1, 6, 4]$. Y con esta nueva lista no es posible generar un arbol binario de busqueda cuyo pre-order sea igual al de la lista."
      ]
    }
  ]
}
